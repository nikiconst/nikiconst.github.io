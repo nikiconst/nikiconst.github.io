{
  "nbformat": 4,
  "nbformat_minor": 0,
  "metadata": {
    "colab": {
      "provenance": [],
      "authorship_tag": "ABX9TyM0yxdsL/OJ4vhb8GruwDSe",
      "include_colab_link": true
    },
    "kernelspec": {
      "name": "python3",
      "display_name": "Python 3"
    },
    "language_info": {
      "name": "python"
    }
  },
  "cells": [
    {
      "cell_type": "markdown",
      "metadata": {
        "id": "view-in-github",
        "colab_type": "text"
      },
      "source": [
        "<a href=\"https://colab.research.google.com/github/nikiconst/nikiconst.github.io/blob/main/week4_h_w.ipynb\" target=\"_parent\"><img src=\"https://colab.research.google.com/assets/colab-badge.svg\" alt=\"Open In Colab\"/></a>"
      ]
    },
    {
      "cell_type": "code",
      "execution_count": 8,
      "metadata": {
        "id": "9_IOmGEwbZDN"
      },
      "outputs": [],
      "source": [
        "import pandas as pd"
      ]
    },
    {
      "cell_type": "code",
      "source": [
        "df = pd.read_csv('population_growth.csv',skiprows=3)"
      ],
      "metadata": {
        "id": "B1rTPCp4gi2a"
      },
      "execution_count": 11,
      "outputs": []
    },
    {
      "cell_type": "code",
      "source": [
        "df"
      ],
      "metadata": {
        "id": "aS9GD9LPg_zi"
      },
      "execution_count": null,
      "outputs": []
    },
    {
      "cell_type": "code",
      "source": [
        "df2 = df.drop(['Indicator Name','Indicator Code'],axis=1)"
      ],
      "metadata": {
        "id": "8q9uPLZmhDPl"
      },
      "execution_count": 15,
      "outputs": []
    },
    {
      "cell_type": "code",
      "source": [
        "df3 = df2.set_index(['Country Code','Country Name']).stack().reset_index()"
      ],
      "metadata": {
        "id": "I0I2LTG-hzCz"
      },
      "execution_count": 16,
      "outputs": []
    },
    {
      "cell_type": "code",
      "source": [
        "df3.columns"
      ],
      "metadata": {
        "colab": {
          "base_uri": "https://localhost:8080/"
        },
        "id": "gbmMVP7ynZwt",
        "outputId": "4c7bdccc-c3dc-4298-866e-ed1cffd85715"
      },
      "execution_count": 18,
      "outputs": [
        {
          "output_type": "execute_result",
          "data": {
            "text/plain": [
              "Index(['Country Code', 'Country Name', 'level_2', 0], dtype='object')"
            ]
          },
          "metadata": {},
          "execution_count": 18
        }
      ]
    },
    {
      "cell_type": "code",
      "source": [
        "df4 = df3.rename(columns={'level_2':'Year', 0:'Population growth (annual %'})"
      ],
      "metadata": {
        "id": "J5fWx_4Hnlt3"
      },
      "execution_count": 19,
      "outputs": []
    },
    {
      "cell_type": "code",
      "source": [
        "df4.set_index('Country Code').to_csv('mycsv.csv')"
      ],
      "metadata": {
        "id": "Uw4ICxE3n5be"
      },
      "execution_count": 21,
      "outputs": []
    },
    {
      "cell_type": "code",
      "source": [
        "exported_values = list( df.T.to_dict().values() ) "
      ],
      "metadata": {
        "id": "jX9wmqtDomVo"
      },
      "execution_count": 22,
      "outputs": []
    },
    {
      "cell_type": "code",
      "source": [
        "import json"
      ],
      "metadata": {
        "id": "xi2wTnvsopci"
      },
      "execution_count": 23,
      "outputs": []
    },
    {
      "cell_type": "code",
      "source": [
        "open('my_first_json_file.json',\n",
        "     'w').write(json.dumps(exported_values))"
      ],
      "metadata": {
        "colab": {
          "base_uri": "https://localhost:8080/"
        },
        "id": "N_7lxqomotN4",
        "outputId": "3681b174-b268-4454-e9cf-3b5f4584af28"
      },
      "execution_count": 24,
      "outputs": [
        {
          "output_type": "execute_result",
          "data": {
            "text/plain": [
              "379990"
            ]
          },
          "metadata": {},
          "execution_count": 24
        }
      ]
    }
  ]
}